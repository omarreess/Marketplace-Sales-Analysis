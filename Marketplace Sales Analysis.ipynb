{
  "cells": [
    {
      "cell_type": "markdown",
      "metadata": {
        "id": "view-in-github",
        "colab_type": "text"
      },
      "source": [
        "<a href=\"https://colab.research.google.com/github/omarreess/Marketplace-Sales-Analysis/blob/main/Marketplace%20Sales%20Analysis.ipynb\" target=\"_parent\"><img src=\"https://colab.research.google.com/assets/colab-badge.svg\" alt=\"Open In Colab\"/></a>"
      ]
    },
    {
      "cell_type": "markdown",
      "metadata": {
        "id": "5e62jZyGJfEA"
      },
      "source": [
        "<h1> <center> Marketplace Sales Analysis "
      ]
    },
    {
      "cell_type": "markdown",
      "metadata": {
        "id": "E0FlbzkpJfEB"
      },
      "source": [
        "___"
      ]
    },
    {
      "cell_type": "markdown",
      "metadata": {
        "id": "FZVy0W63JfEB"
      },
      "source": [
        "<h2> OBJECTIVE"
      ]
    },
    {
      "cell_type": "markdown",
      "metadata": {
        "id": "6-VloIXwJfEB"
      },
      "source": [
        "- Exploring & Cleaning the data \n",
        "\n",
        "- Handle Missing values \n",
        "\n",
        "- Checking is tha data inconsistency \n",
        "\n",
        "- Getting the Top 20 Products by Sales Count \n",
        "\n",
        "- Visualize The Top Products "
      ]
    },
    {
      "cell_type": "markdown",
      "source": [
        "<h3> DATASET REFRENCE"
      ],
      "metadata": {
        "id": "zTO5Eu_yBrIS"
      }
    },
    {
      "cell_type": "markdown",
      "source": [
        "www.kaggle.com/datasets/rohitsahoo/sales-forecasting"
      ],
      "metadata": {
        "id": "Ouem-OVACCPZ"
      }
    },
    {
      "cell_type": "markdown",
      "metadata": {
        "id": "G8xwhl6mJfEB"
      },
      "source": [
        "___"
      ]
    },
    {
      "cell_type": "markdown",
      "metadata": {
        "id": "HtDHlZthJfEC"
      },
      "source": [
        "<h4> IMPORTING IMPORTANT PYTHON LIBRARIES"
      ]
    },
    {
      "cell_type": "code",
      "execution_count": 6,
      "metadata": {
        "colab": {
          "base_uri": "https://localhost:8080/"
        },
        "id": "CSH_thEeJfEC",
        "outputId": "0656a66e-e027-4267-8124-42c49a5ff04f"
      },
      "outputs": [
        {
          "output_type": "stream",
          "name": "stdout",
          "text": [
            "Libraries are imported\n"
          ]
        }
      ],
      "source": [
        "# Data Manipulation\n",
        "import pandas as pd\n",
        "\n",
        "# Data Visualisation\n",
        "import seaborn as sns\n",
        "import matplotlib.pyplot as plt\n",
        "\n",
        "print(\"Libraries are imported\")\n",
        " "
      ]
    },
    {
      "cell_type": "markdown",
      "metadata": {
        "id": "59J2496VJfEC"
      },
      "source": [
        "<h4> IMPORTING THE DATASET IN CSV FORMAT"
      ]
    },
    {
      "cell_type": "code",
      "execution_count": 7,
      "metadata": {
        "colab": {
          "base_uri": "https://localhost:8080/",
          "height": 600
        },
        "id": "BASjHo_1JfED",
        "outputId": "e4840bdf-1407-4a20-e27b-702658462c4f"
      },
      "outputs": [
        {
          "output_type": "execute_result",
          "data": {
            "text/plain": [
              "   Row ID        Order ID  Order Date   Ship Date       Ship Mode Customer ID  \\\n",
              "0       1  CA-2017-152156   8/11/2017  11/11/2017    Second Class    CG-12520   \n",
              "1       2  CA-2017-152156   8/11/2017  11/11/2017    Second Class    CG-12520   \n",
              "2       3  CA-2017-138688   12/6/2017  16/06/2017    Second Class    DV-13045   \n",
              "3       4  US-2016-108966  11/10/2016  18/10/2016  Standard Class    SO-20335   \n",
              "4       5  US-2016-108966  11/10/2016  18/10/2016  Standard Class    SO-20335   \n",
              "\n",
              "     Customer Name    Segment        Country             City       State  \\\n",
              "0      Claire Gute   Consumer             US        Henderson    Kentucky   \n",
              "1      Claire Gute   Consumer  United States        Henderson    Kentucky   \n",
              "2  Darrin Van Huff  Corporate  United States      Los Angeles  California   \n",
              "3   Sean O'Donnell   Consumer             US  Fort Lauderdale     Florida   \n",
              "4   Sean O'Donnell   Consumer  United States  Fort Lauderdale     Florida   \n",
              "\n",
              "   Postal Code Region       Product ID         Category Sub-Category  \\\n",
              "0      42420.0  South  FUR-BO-10001798        Furniture    Bookcases   \n",
              "1      42420.0  South  FUR-CH-10000454        Furniture       Chairs   \n",
              "2      90036.0   West  OFF-LA-10000240  Office Supplies       Labels   \n",
              "3      33311.0  South  FUR-TA-10000577        Furniture       Tables   \n",
              "4      33311.0  South  OFF-ST-10000760  Office Supplies      Storage   \n",
              "\n",
              "                                        Product Name     Sales  \n",
              "0                  Bush Somerset Collection Bookcase  261.9600  \n",
              "1  Hon Deluxe Fabric Upholstered Stacking Chairs,...  731.9400  \n",
              "2  Self-Adhesive Address Labels for Typewriters b...   14.6200  \n",
              "3      Bretford CR4500 Series Slim Rectangular Table  957.5775  \n",
              "4                     Eldon Fold 'N Roll Cart System   22.3680  "
            ],
            "text/html": [
              "\n",
              "  <div id=\"df-d42fba3f-94c0-45d8-82a1-5bbce36ca1f6\">\n",
              "    <div class=\"colab-df-container\">\n",
              "      <div>\n",
              "<style scoped>\n",
              "    .dataframe tbody tr th:only-of-type {\n",
              "        vertical-align: middle;\n",
              "    }\n",
              "\n",
              "    .dataframe tbody tr th {\n",
              "        vertical-align: top;\n",
              "    }\n",
              "\n",
              "    .dataframe thead th {\n",
              "        text-align: right;\n",
              "    }\n",
              "</style>\n",
              "<table border=\"1\" class=\"dataframe\">\n",
              "  <thead>\n",
              "    <tr style=\"text-align: right;\">\n",
              "      <th></th>\n",
              "      <th>Row ID</th>\n",
              "      <th>Order ID</th>\n",
              "      <th>Order Date</th>\n",
              "      <th>Ship Date</th>\n",
              "      <th>Ship Mode</th>\n",
              "      <th>Customer ID</th>\n",
              "      <th>Customer Name</th>\n",
              "      <th>Segment</th>\n",
              "      <th>Country</th>\n",
              "      <th>City</th>\n",
              "      <th>State</th>\n",
              "      <th>Postal Code</th>\n",
              "      <th>Region</th>\n",
              "      <th>Product ID</th>\n",
              "      <th>Category</th>\n",
              "      <th>Sub-Category</th>\n",
              "      <th>Product Name</th>\n",
              "      <th>Sales</th>\n",
              "    </tr>\n",
              "  </thead>\n",
              "  <tbody>\n",
              "    <tr>\n",
              "      <th>0</th>\n",
              "      <td>1</td>\n",
              "      <td>CA-2017-152156</td>\n",
              "      <td>8/11/2017</td>\n",
              "      <td>11/11/2017</td>\n",
              "      <td>Second Class</td>\n",
              "      <td>CG-12520</td>\n",
              "      <td>Claire Gute</td>\n",
              "      <td>Consumer</td>\n",
              "      <td>US</td>\n",
              "      <td>Henderson</td>\n",
              "      <td>Kentucky</td>\n",
              "      <td>42420.0</td>\n",
              "      <td>South</td>\n",
              "      <td>FUR-BO-10001798</td>\n",
              "      <td>Furniture</td>\n",
              "      <td>Bookcases</td>\n",
              "      <td>Bush Somerset Collection Bookcase</td>\n",
              "      <td>261.9600</td>\n",
              "    </tr>\n",
              "    <tr>\n",
              "      <th>1</th>\n",
              "      <td>2</td>\n",
              "      <td>CA-2017-152156</td>\n",
              "      <td>8/11/2017</td>\n",
              "      <td>11/11/2017</td>\n",
              "      <td>Second Class</td>\n",
              "      <td>CG-12520</td>\n",
              "      <td>Claire Gute</td>\n",
              "      <td>Consumer</td>\n",
              "      <td>United States</td>\n",
              "      <td>Henderson</td>\n",
              "      <td>Kentucky</td>\n",
              "      <td>42420.0</td>\n",
              "      <td>South</td>\n",
              "      <td>FUR-CH-10000454</td>\n",
              "      <td>Furniture</td>\n",
              "      <td>Chairs</td>\n",
              "      <td>Hon Deluxe Fabric Upholstered Stacking Chairs,...</td>\n",
              "      <td>731.9400</td>\n",
              "    </tr>\n",
              "    <tr>\n",
              "      <th>2</th>\n",
              "      <td>3</td>\n",
              "      <td>CA-2017-138688</td>\n",
              "      <td>12/6/2017</td>\n",
              "      <td>16/06/2017</td>\n",
              "      <td>Second Class</td>\n",
              "      <td>DV-13045</td>\n",
              "      <td>Darrin Van Huff</td>\n",
              "      <td>Corporate</td>\n",
              "      <td>United States</td>\n",
              "      <td>Los Angeles</td>\n",
              "      <td>California</td>\n",
              "      <td>90036.0</td>\n",
              "      <td>West</td>\n",
              "      <td>OFF-LA-10000240</td>\n",
              "      <td>Office Supplies</td>\n",
              "      <td>Labels</td>\n",
              "      <td>Self-Adhesive Address Labels for Typewriters b...</td>\n",
              "      <td>14.6200</td>\n",
              "    </tr>\n",
              "    <tr>\n",
              "      <th>3</th>\n",
              "      <td>4</td>\n",
              "      <td>US-2016-108966</td>\n",
              "      <td>11/10/2016</td>\n",
              "      <td>18/10/2016</td>\n",
              "      <td>Standard Class</td>\n",
              "      <td>SO-20335</td>\n",
              "      <td>Sean O'Donnell</td>\n",
              "      <td>Consumer</td>\n",
              "      <td>US</td>\n",
              "      <td>Fort Lauderdale</td>\n",
              "      <td>Florida</td>\n",
              "      <td>33311.0</td>\n",
              "      <td>South</td>\n",
              "      <td>FUR-TA-10000577</td>\n",
              "      <td>Furniture</td>\n",
              "      <td>Tables</td>\n",
              "      <td>Bretford CR4500 Series Slim Rectangular Table</td>\n",
              "      <td>957.5775</td>\n",
              "    </tr>\n",
              "    <tr>\n",
              "      <th>4</th>\n",
              "      <td>5</td>\n",
              "      <td>US-2016-108966</td>\n",
              "      <td>11/10/2016</td>\n",
              "      <td>18/10/2016</td>\n",
              "      <td>Standard Class</td>\n",
              "      <td>SO-20335</td>\n",
              "      <td>Sean O'Donnell</td>\n",
              "      <td>Consumer</td>\n",
              "      <td>United States</td>\n",
              "      <td>Fort Lauderdale</td>\n",
              "      <td>Florida</td>\n",
              "      <td>33311.0</td>\n",
              "      <td>South</td>\n",
              "      <td>OFF-ST-10000760</td>\n",
              "      <td>Office Supplies</td>\n",
              "      <td>Storage</td>\n",
              "      <td>Eldon Fold 'N Roll Cart System</td>\n",
              "      <td>22.3680</td>\n",
              "    </tr>\n",
              "  </tbody>\n",
              "</table>\n",
              "</div>\n",
              "      <button class=\"colab-df-convert\" onclick=\"convertToInteractive('df-d42fba3f-94c0-45d8-82a1-5bbce36ca1f6')\"\n",
              "              title=\"Convert this dataframe to an interactive table.\"\n",
              "              style=\"display:none;\">\n",
              "        \n",
              "  <svg xmlns=\"http://www.w3.org/2000/svg\" height=\"24px\"viewBox=\"0 0 24 24\"\n",
              "       width=\"24px\">\n",
              "    <path d=\"M0 0h24v24H0V0z\" fill=\"none\"/>\n",
              "    <path d=\"M18.56 5.44l.94 2.06.94-2.06 2.06-.94-2.06-.94-.94-2.06-.94 2.06-2.06.94zm-11 1L8.5 8.5l.94-2.06 2.06-.94-2.06-.94L8.5 2.5l-.94 2.06-2.06.94zm10 10l.94 2.06.94-2.06 2.06-.94-2.06-.94-.94-2.06-.94 2.06-2.06.94z\"/><path d=\"M17.41 7.96l-1.37-1.37c-.4-.4-.92-.59-1.43-.59-.52 0-1.04.2-1.43.59L10.3 9.45l-7.72 7.72c-.78.78-.78 2.05 0 2.83L4 21.41c.39.39.9.59 1.41.59.51 0 1.02-.2 1.41-.59l7.78-7.78 2.81-2.81c.8-.78.8-2.07 0-2.86zM5.41 20L4 18.59l7.72-7.72 1.47 1.35L5.41 20z\"/>\n",
              "  </svg>\n",
              "      </button>\n",
              "      \n",
              "  <style>\n",
              "    .colab-df-container {\n",
              "      display:flex;\n",
              "      flex-wrap:wrap;\n",
              "      gap: 12px;\n",
              "    }\n",
              "\n",
              "    .colab-df-convert {\n",
              "      background-color: #E8F0FE;\n",
              "      border: none;\n",
              "      border-radius: 50%;\n",
              "      cursor: pointer;\n",
              "      display: none;\n",
              "      fill: #1967D2;\n",
              "      height: 32px;\n",
              "      padding: 0 0 0 0;\n",
              "      width: 32px;\n",
              "    }\n",
              "\n",
              "    .colab-df-convert:hover {\n",
              "      background-color: #E2EBFA;\n",
              "      box-shadow: 0px 1px 2px rgba(60, 64, 67, 0.3), 0px 1px 3px 1px rgba(60, 64, 67, 0.15);\n",
              "      fill: #174EA6;\n",
              "    }\n",
              "\n",
              "    [theme=dark] .colab-df-convert {\n",
              "      background-color: #3B4455;\n",
              "      fill: #D2E3FC;\n",
              "    }\n",
              "\n",
              "    [theme=dark] .colab-df-convert:hover {\n",
              "      background-color: #434B5C;\n",
              "      box-shadow: 0px 1px 3px 1px rgba(0, 0, 0, 0.15);\n",
              "      filter: drop-shadow(0px 1px 2px rgba(0, 0, 0, 0.3));\n",
              "      fill: #FFFFFF;\n",
              "    }\n",
              "  </style>\n",
              "\n",
              "      <script>\n",
              "        const buttonEl =\n",
              "          document.querySelector('#df-d42fba3f-94c0-45d8-82a1-5bbce36ca1f6 button.colab-df-convert');\n",
              "        buttonEl.style.display =\n",
              "          google.colab.kernel.accessAllowed ? 'block' : 'none';\n",
              "\n",
              "        async function convertToInteractive(key) {\n",
              "          const element = document.querySelector('#df-d42fba3f-94c0-45d8-82a1-5bbce36ca1f6');\n",
              "          const dataTable =\n",
              "            await google.colab.kernel.invokeFunction('convertToInteractive',\n",
              "                                                     [key], {});\n",
              "          if (!dataTable) return;\n",
              "\n",
              "          const docLinkHtml = 'Like what you see? Visit the ' +\n",
              "            '<a target=\"_blank\" href=https://colab.research.google.com/notebooks/data_table.ipynb>data table notebook</a>'\n",
              "            + ' to learn more about interactive tables.';\n",
              "          element.innerHTML = '';\n",
              "          dataTable['output_type'] = 'display_data';\n",
              "          await google.colab.output.renderOutput(dataTable, element);\n",
              "          const docLink = document.createElement('div');\n",
              "          docLink.innerHTML = docLinkHtml;\n",
              "          element.appendChild(docLink);\n",
              "        }\n",
              "      </script>\n",
              "    </div>\n",
              "  </div>\n",
              "  "
            ]
          },
          "metadata": {},
          "execution_count": 7
        }
      ],
      "source": [
        "# Importing dataset\n",
        "sales_data = pd.read_csv('/content/market_sales.csv')\n",
        "\n",
        "# Checking a small snap of data\n",
        "sales_data.head()\n"
      ]
    },
    {
      "cell_type": "markdown",
      "metadata": {
        "id": "tQ6vLxLAJfED"
      },
      "source": [
        "<H3> EXPLORIING & CLEANING THE DATA "
      ]
    },
    {
      "cell_type": "code",
      "source": [
        "# Checking Data shape\n",
        "print(f\"Data Shape -> {sales_data.shape} \\n\")\n",
        "\n",
        "# Exploring an Overview for datatypes , entries count\n",
        "sales_data.info()\n"
      ],
      "metadata": {
        "colab": {
          "base_uri": "https://localhost:8080/"
        },
        "id": "5LEHQrA0IPNr",
        "outputId": "ba323efc-c213-4842-eb0e-035e7c4a94b0"
      },
      "execution_count": 8,
      "outputs": [
        {
          "output_type": "stream",
          "name": "stdout",
          "text": [
            "Data Shape -> (9657, 18) \n",
            "\n",
            "<class 'pandas.core.frame.DataFrame'>\n",
            "RangeIndex: 9657 entries, 0 to 9656\n",
            "Data columns (total 18 columns):\n",
            " #   Column         Non-Null Count  Dtype  \n",
            "---  ------         --------------  -----  \n",
            " 0   Row ID         9657 non-null   int64  \n",
            " 1   Order ID       9657 non-null   object \n",
            " 2   Order Date     9657 non-null   object \n",
            " 3   Ship Date      9657 non-null   object \n",
            " 4   Ship Mode      9657 non-null   object \n",
            " 5   Customer ID    9657 non-null   object \n",
            " 6   Customer Name  9656 non-null   object \n",
            " 7   Segment        9656 non-null   object \n",
            " 8   Country        9656 non-null   object \n",
            " 9   City           9656 non-null   object \n",
            " 10  State          9656 non-null   object \n",
            " 11  Postal Code    9646 non-null   float64\n",
            " 12  Region         9656 non-null   object \n",
            " 13  Product ID     9656 non-null   object \n",
            " 14  Category       9656 non-null   object \n",
            " 15  Sub-Category   9656 non-null   object \n",
            " 16  Product Name   9656 non-null   object \n",
            " 17  Sales          9656 non-null   float64\n",
            "dtypes: float64(2), int64(1), object(15)\n",
            "memory usage: 1.3+ MB\n"
          ]
        }
      ]
    },
    {
      "cell_type": "markdown",
      "source": [
        "Solving The inconsistency of Data "
      ],
      "metadata": {
        "id": "tVjrnl9tFeSz"
      }
    },
    {
      "cell_type": "code",
      "source": [
        "# From Quick perview of the data , we observed inconstent entries in Country Column \n",
        "# Checking All unique values for this column \n",
        "sales_data['Country'].unique()\n",
        "\n",
        "# Unify the values to be same , in same reference of data\n",
        "sales_data['Country'].replace('US' ,'United States'  , inplace=True )\n",
        " "
      ],
      "metadata": {
        "id": "5cvF_0ITFqD-"
      },
      "execution_count": 9,
      "outputs": []
    },
    {
      "cell_type": "markdown",
      "metadata": {
        "id": "gVC1a7djJfED"
      },
      "source": [
        "Checking Missing entries "
      ]
    },
    {
      "cell_type": "code",
      "execution_count": 10,
      "metadata": {
        "colab": {
          "base_uri": "https://localhost:8080/"
        },
        "id": "Vkq6GIvWJfED",
        "outputId": "e53901c5-f960-48b7-bb92-6694580183e1"
      },
      "outputs": [
        {
          "output_type": "execute_result",
          "data": {
            "text/plain": [
              "Row ID            0\n",
              "Order ID          0\n",
              "Order Date        0\n",
              "Ship Date         0\n",
              "Ship Mode         0\n",
              "Customer ID       0\n",
              "Customer Name     1\n",
              "Segment           1\n",
              "Country           1\n",
              "City              1\n",
              "State             1\n",
              "Postal Code      11\n",
              "Region            1\n",
              "Product ID        1\n",
              "Category          1\n",
              "Sub-Category      1\n",
              "Product Name      1\n",
              "Sales             1\n",
              "dtype: int64"
            ]
          },
          "metadata": {},
          "execution_count": 10
        }
      ],
      "source": [
        "# Checking Overall missing entries \n",
        "sales_data.isna().sum()\n"
      ]
    },
    {
      "cell_type": "markdown",
      "source": [
        "Cleaning Missing Entries in Postal code \n",
        "\n",
        " \n",
        "\n"
      ],
      "metadata": {
        "id": "evtBMe_HDnh9"
      }
    },
    {
      "cell_type": "code",
      "source": [
        "# Droping Missing rows in same ref of Data\n",
        "sales_data.dropna(inplace=True)\n"
      ],
      "metadata": {
        "id": "TxrH3JdXD15j"
      },
      "execution_count": 11,
      "outputs": []
    },
    {
      "cell_type": "markdown",
      "source": [
        "<h2> MAKING SOME ANALYTICS "
      ],
      "metadata": {
        "id": "BjlklAScJT0l"
      }
    },
    {
      "cell_type": "code",
      "execution_count": 12,
      "metadata": {
        "colab": {
          "base_uri": "https://localhost:8080/",
          "height": 300
        },
        "id": "l_MLB4gXJfEG",
        "outputId": "934cf025-986c-4569-94d0-9732d6fb7951"
      },
      "outputs": [
        {
          "output_type": "execute_result",
          "data": {
            "text/plain": [
              "            Row ID   Postal Code         Sales\n",
              "count  9646.000000   9646.000000   9646.000000\n",
              "mean   4825.076612  55255.863881    230.293199\n",
              "std    2786.024295  32011.936849    628.026058\n",
              "min       1.000000   1040.000000      0.444000\n",
              "25%    2413.250000  23223.000000     17.302500\n",
              "50%    4824.500000  57252.000000     54.376000\n",
              "75%    7236.750000  90004.000000    209.940000\n",
              "max    9656.000000  99301.000000  22638.480000"
            ],
            "text/html": [
              "\n",
              "  <div id=\"df-f0e8561b-371e-44f4-abd4-f38828d02cf1\">\n",
              "    <div class=\"colab-df-container\">\n",
              "      <div>\n",
              "<style scoped>\n",
              "    .dataframe tbody tr th:only-of-type {\n",
              "        vertical-align: middle;\n",
              "    }\n",
              "\n",
              "    .dataframe tbody tr th {\n",
              "        vertical-align: top;\n",
              "    }\n",
              "\n",
              "    .dataframe thead th {\n",
              "        text-align: right;\n",
              "    }\n",
              "</style>\n",
              "<table border=\"1\" class=\"dataframe\">\n",
              "  <thead>\n",
              "    <tr style=\"text-align: right;\">\n",
              "      <th></th>\n",
              "      <th>Row ID</th>\n",
              "      <th>Postal Code</th>\n",
              "      <th>Sales</th>\n",
              "    </tr>\n",
              "  </thead>\n",
              "  <tbody>\n",
              "    <tr>\n",
              "      <th>count</th>\n",
              "      <td>9646.000000</td>\n",
              "      <td>9646.000000</td>\n",
              "      <td>9646.000000</td>\n",
              "    </tr>\n",
              "    <tr>\n",
              "      <th>mean</th>\n",
              "      <td>4825.076612</td>\n",
              "      <td>55255.863881</td>\n",
              "      <td>230.293199</td>\n",
              "    </tr>\n",
              "    <tr>\n",
              "      <th>std</th>\n",
              "      <td>2786.024295</td>\n",
              "      <td>32011.936849</td>\n",
              "      <td>628.026058</td>\n",
              "    </tr>\n",
              "    <tr>\n",
              "      <th>min</th>\n",
              "      <td>1.000000</td>\n",
              "      <td>1040.000000</td>\n",
              "      <td>0.444000</td>\n",
              "    </tr>\n",
              "    <tr>\n",
              "      <th>25%</th>\n",
              "      <td>2413.250000</td>\n",
              "      <td>23223.000000</td>\n",
              "      <td>17.302500</td>\n",
              "    </tr>\n",
              "    <tr>\n",
              "      <th>50%</th>\n",
              "      <td>4824.500000</td>\n",
              "      <td>57252.000000</td>\n",
              "      <td>54.376000</td>\n",
              "    </tr>\n",
              "    <tr>\n",
              "      <th>75%</th>\n",
              "      <td>7236.750000</td>\n",
              "      <td>90004.000000</td>\n",
              "      <td>209.940000</td>\n",
              "    </tr>\n",
              "    <tr>\n",
              "      <th>max</th>\n",
              "      <td>9656.000000</td>\n",
              "      <td>99301.000000</td>\n",
              "      <td>22638.480000</td>\n",
              "    </tr>\n",
              "  </tbody>\n",
              "</table>\n",
              "</div>\n",
              "      <button class=\"colab-df-convert\" onclick=\"convertToInteractive('df-f0e8561b-371e-44f4-abd4-f38828d02cf1')\"\n",
              "              title=\"Convert this dataframe to an interactive table.\"\n",
              "              style=\"display:none;\">\n",
              "        \n",
              "  <svg xmlns=\"http://www.w3.org/2000/svg\" height=\"24px\"viewBox=\"0 0 24 24\"\n",
              "       width=\"24px\">\n",
              "    <path d=\"M0 0h24v24H0V0z\" fill=\"none\"/>\n",
              "    <path d=\"M18.56 5.44l.94 2.06.94-2.06 2.06-.94-2.06-.94-.94-2.06-.94 2.06-2.06.94zm-11 1L8.5 8.5l.94-2.06 2.06-.94-2.06-.94L8.5 2.5l-.94 2.06-2.06.94zm10 10l.94 2.06.94-2.06 2.06-.94-2.06-.94-.94-2.06-.94 2.06-2.06.94z\"/><path d=\"M17.41 7.96l-1.37-1.37c-.4-.4-.92-.59-1.43-.59-.52 0-1.04.2-1.43.59L10.3 9.45l-7.72 7.72c-.78.78-.78 2.05 0 2.83L4 21.41c.39.39.9.59 1.41.59.51 0 1.02-.2 1.41-.59l7.78-7.78 2.81-2.81c.8-.78.8-2.07 0-2.86zM5.41 20L4 18.59l7.72-7.72 1.47 1.35L5.41 20z\"/>\n",
              "  </svg>\n",
              "      </button>\n",
              "      \n",
              "  <style>\n",
              "    .colab-df-container {\n",
              "      display:flex;\n",
              "      flex-wrap:wrap;\n",
              "      gap: 12px;\n",
              "    }\n",
              "\n",
              "    .colab-df-convert {\n",
              "      background-color: #E8F0FE;\n",
              "      border: none;\n",
              "      border-radius: 50%;\n",
              "      cursor: pointer;\n",
              "      display: none;\n",
              "      fill: #1967D2;\n",
              "      height: 32px;\n",
              "      padding: 0 0 0 0;\n",
              "      width: 32px;\n",
              "    }\n",
              "\n",
              "    .colab-df-convert:hover {\n",
              "      background-color: #E2EBFA;\n",
              "      box-shadow: 0px 1px 2px rgba(60, 64, 67, 0.3), 0px 1px 3px 1px rgba(60, 64, 67, 0.15);\n",
              "      fill: #174EA6;\n",
              "    }\n",
              "\n",
              "    [theme=dark] .colab-df-convert {\n",
              "      background-color: #3B4455;\n",
              "      fill: #D2E3FC;\n",
              "    }\n",
              "\n",
              "    [theme=dark] .colab-df-convert:hover {\n",
              "      background-color: #434B5C;\n",
              "      box-shadow: 0px 1px 3px 1px rgba(0, 0, 0, 0.15);\n",
              "      filter: drop-shadow(0px 1px 2px rgba(0, 0, 0, 0.3));\n",
              "      fill: #FFFFFF;\n",
              "    }\n",
              "  </style>\n",
              "\n",
              "      <script>\n",
              "        const buttonEl =\n",
              "          document.querySelector('#df-f0e8561b-371e-44f4-abd4-f38828d02cf1 button.colab-df-convert');\n",
              "        buttonEl.style.display =\n",
              "          google.colab.kernel.accessAllowed ? 'block' : 'none';\n",
              "\n",
              "        async function convertToInteractive(key) {\n",
              "          const element = document.querySelector('#df-f0e8561b-371e-44f4-abd4-f38828d02cf1');\n",
              "          const dataTable =\n",
              "            await google.colab.kernel.invokeFunction('convertToInteractive',\n",
              "                                                     [key], {});\n",
              "          if (!dataTable) return;\n",
              "\n",
              "          const docLinkHtml = 'Like what you see? Visit the ' +\n",
              "            '<a target=\"_blank\" href=https://colab.research.google.com/notebooks/data_table.ipynb>data table notebook</a>'\n",
              "            + ' to learn more about interactive tables.';\n",
              "          element.innerHTML = '';\n",
              "          dataTable['output_type'] = 'display_data';\n",
              "          await google.colab.output.renderOutput(dataTable, element);\n",
              "          const docLink = document.createElement('div');\n",
              "          docLink.innerHTML = docLinkHtml;\n",
              "          element.appendChild(docLink);\n",
              "        }\n",
              "      </script>\n",
              "    </div>\n",
              "  </div>\n",
              "  "
            ]
          },
          "metadata": {},
          "execution_count": 12
        }
      ],
      "source": [
        "# Checking a Quick Data Statistical Summary \n",
        "sales_data.describe()\n"
      ]
    },
    {
      "cell_type": "markdown",
      "metadata": {
        "id": "tSuyRKfIJfEG"
      },
      "source": [
        "<h3> EXPLORATORY DATA ANALYSIS"
      ]
    },
    {
      "cell_type": "markdown",
      "metadata": {
        "id": "QYC7xPriJfEH"
      },
      "source": [
        " <h3> Getting the Top 20 Products by Sales Count "
      ]
    },
    {
      "cell_type": "code",
      "execution_count": 13,
      "metadata": {
        "colab": {
          "base_uri": "https://localhost:8080/",
          "height": 708
        },
        "id": "LJ1PAF93JfEH",
        "outputId": "a4f76fd4-10de-4324-913b-a7a6b8c14548"
      },
      "outputs": [
        {
          "output_type": "execute_result",
          "data": {
            "text/plain": [
              "                                                         Sales\n",
              "Product Name                                                  \n",
              "Canon imageCLASS 2200 Advanced Copier               61599.8240\n",
              "Fellowes PB500 Electric Punch Plastic Comb Bind...  27453.3840\n",
              "Cisco TelePresence System EX90 Videoconferencin...  22638.4800\n",
              "HON 5400 Series Task Chairs for Big and Tall        21870.5760\n",
              "GBC Ibimaster 500 Manual ProClick Binding System    19024.5000\n",
              "GBC DocuBind TL300 Electric Binding System          18926.4890\n",
              "Hewlett Packard LaserJet 3310 Copier                18839.6860\n",
              "HP Designjet T520 Inkjet Large Format Printer -...  18374.8950\n",
              "High Speed Automatic Electric Letter Opener         17030.3120\n",
              "Lexmark MX611dhe Monochrome Laser Printer           16829.9010\n",
              "Martin Yale Chadless Opener Electric Letter Opener  16656.2000\n",
              "Ibico EPK-21 Electric Binding System                15875.9160\n",
              "GBC DocuBind P400 Electric Binding System           15787.4840\n",
              "3D Systems Cube Printer, 2nd Generation, Magenta    14299.8900\n",
              "Apple iPhone 5                                      12996.6000\n",
              "Bretford Rectangular Conference Table Tops          12995.2915\n",
              "Global Troy Executive Leather Low-Back Tilter       12975.3820\n",
              "SAFCO Arco Folding Chair                            11572.7800\n",
              "Riverside Palais Royal Lawyers Bookcase, Royale...  11206.0656\n",
              "Cubify CubeX 3D Printer Double Head Print           11099.9630"
            ],
            "text/html": [
              "\n",
              "  <div id=\"df-1e338315-34c4-4554-b7ce-feb2c4fa5ecb\">\n",
              "    <div class=\"colab-df-container\">\n",
              "      <div>\n",
              "<style scoped>\n",
              "    .dataframe tbody tr th:only-of-type {\n",
              "        vertical-align: middle;\n",
              "    }\n",
              "\n",
              "    .dataframe tbody tr th {\n",
              "        vertical-align: top;\n",
              "    }\n",
              "\n",
              "    .dataframe thead th {\n",
              "        text-align: right;\n",
              "    }\n",
              "</style>\n",
              "<table border=\"1\" class=\"dataframe\">\n",
              "  <thead>\n",
              "    <tr style=\"text-align: right;\">\n",
              "      <th></th>\n",
              "      <th>Sales</th>\n",
              "    </tr>\n",
              "    <tr>\n",
              "      <th>Product Name</th>\n",
              "      <th></th>\n",
              "    </tr>\n",
              "  </thead>\n",
              "  <tbody>\n",
              "    <tr>\n",
              "      <th>Canon imageCLASS 2200 Advanced Copier</th>\n",
              "      <td>61599.8240</td>\n",
              "    </tr>\n",
              "    <tr>\n",
              "      <th>Fellowes PB500 Electric Punch Plastic Comb Binding Machine with Manual Bind</th>\n",
              "      <td>27453.3840</td>\n",
              "    </tr>\n",
              "    <tr>\n",
              "      <th>Cisco TelePresence System EX90 Videoconferencing Unit</th>\n",
              "      <td>22638.4800</td>\n",
              "    </tr>\n",
              "    <tr>\n",
              "      <th>HON 5400 Series Task Chairs for Big and Tall</th>\n",
              "      <td>21870.5760</td>\n",
              "    </tr>\n",
              "    <tr>\n",
              "      <th>GBC Ibimaster 500 Manual ProClick Binding System</th>\n",
              "      <td>19024.5000</td>\n",
              "    </tr>\n",
              "    <tr>\n",
              "      <th>GBC DocuBind TL300 Electric Binding System</th>\n",
              "      <td>18926.4890</td>\n",
              "    </tr>\n",
              "    <tr>\n",
              "      <th>Hewlett Packard LaserJet 3310 Copier</th>\n",
              "      <td>18839.6860</td>\n",
              "    </tr>\n",
              "    <tr>\n",
              "      <th>HP Designjet T520 Inkjet Large Format Printer - 24\" Color</th>\n",
              "      <td>18374.8950</td>\n",
              "    </tr>\n",
              "    <tr>\n",
              "      <th>High Speed Automatic Electric Letter Opener</th>\n",
              "      <td>17030.3120</td>\n",
              "    </tr>\n",
              "    <tr>\n",
              "      <th>Lexmark MX611dhe Monochrome Laser Printer</th>\n",
              "      <td>16829.9010</td>\n",
              "    </tr>\n",
              "    <tr>\n",
              "      <th>Martin Yale Chadless Opener Electric Letter Opener</th>\n",
              "      <td>16656.2000</td>\n",
              "    </tr>\n",
              "    <tr>\n",
              "      <th>Ibico EPK-21 Electric Binding System</th>\n",
              "      <td>15875.9160</td>\n",
              "    </tr>\n",
              "    <tr>\n",
              "      <th>GBC DocuBind P400 Electric Binding System</th>\n",
              "      <td>15787.4840</td>\n",
              "    </tr>\n",
              "    <tr>\n",
              "      <th>3D Systems Cube Printer, 2nd Generation, Magenta</th>\n",
              "      <td>14299.8900</td>\n",
              "    </tr>\n",
              "    <tr>\n",
              "      <th>Apple iPhone 5</th>\n",
              "      <td>12996.6000</td>\n",
              "    </tr>\n",
              "    <tr>\n",
              "      <th>Bretford Rectangular Conference Table Tops</th>\n",
              "      <td>12995.2915</td>\n",
              "    </tr>\n",
              "    <tr>\n",
              "      <th>Global Troy Executive Leather Low-Back Tilter</th>\n",
              "      <td>12975.3820</td>\n",
              "    </tr>\n",
              "    <tr>\n",
              "      <th>SAFCO Arco Folding Chair</th>\n",
              "      <td>11572.7800</td>\n",
              "    </tr>\n",
              "    <tr>\n",
              "      <th>Riverside Palais Royal Lawyers Bookcase, Royale Cherry Finish</th>\n",
              "      <td>11206.0656</td>\n",
              "    </tr>\n",
              "    <tr>\n",
              "      <th>Cubify CubeX 3D Printer Double Head Print</th>\n",
              "      <td>11099.9630</td>\n",
              "    </tr>\n",
              "  </tbody>\n",
              "</table>\n",
              "</div>\n",
              "      <button class=\"colab-df-convert\" onclick=\"convertToInteractive('df-1e338315-34c4-4554-b7ce-feb2c4fa5ecb')\"\n",
              "              title=\"Convert this dataframe to an interactive table.\"\n",
              "              style=\"display:none;\">\n",
              "        \n",
              "  <svg xmlns=\"http://www.w3.org/2000/svg\" height=\"24px\"viewBox=\"0 0 24 24\"\n",
              "       width=\"24px\">\n",
              "    <path d=\"M0 0h24v24H0V0z\" fill=\"none\"/>\n",
              "    <path d=\"M18.56 5.44l.94 2.06.94-2.06 2.06-.94-2.06-.94-.94-2.06-.94 2.06-2.06.94zm-11 1L8.5 8.5l.94-2.06 2.06-.94-2.06-.94L8.5 2.5l-.94 2.06-2.06.94zm10 10l.94 2.06.94-2.06 2.06-.94-2.06-.94-.94-2.06-.94 2.06-2.06.94z\"/><path d=\"M17.41 7.96l-1.37-1.37c-.4-.4-.92-.59-1.43-.59-.52 0-1.04.2-1.43.59L10.3 9.45l-7.72 7.72c-.78.78-.78 2.05 0 2.83L4 21.41c.39.39.9.59 1.41.59.51 0 1.02-.2 1.41-.59l7.78-7.78 2.81-2.81c.8-.78.8-2.07 0-2.86zM5.41 20L4 18.59l7.72-7.72 1.47 1.35L5.41 20z\"/>\n",
              "  </svg>\n",
              "      </button>\n",
              "      \n",
              "  <style>\n",
              "    .colab-df-container {\n",
              "      display:flex;\n",
              "      flex-wrap:wrap;\n",
              "      gap: 12px;\n",
              "    }\n",
              "\n",
              "    .colab-df-convert {\n",
              "      background-color: #E8F0FE;\n",
              "      border: none;\n",
              "      border-radius: 50%;\n",
              "      cursor: pointer;\n",
              "      display: none;\n",
              "      fill: #1967D2;\n",
              "      height: 32px;\n",
              "      padding: 0 0 0 0;\n",
              "      width: 32px;\n",
              "    }\n",
              "\n",
              "    .colab-df-convert:hover {\n",
              "      background-color: #E2EBFA;\n",
              "      box-shadow: 0px 1px 2px rgba(60, 64, 67, 0.3), 0px 1px 3px 1px rgba(60, 64, 67, 0.15);\n",
              "      fill: #174EA6;\n",
              "    }\n",
              "\n",
              "    [theme=dark] .colab-df-convert {\n",
              "      background-color: #3B4455;\n",
              "      fill: #D2E3FC;\n",
              "    }\n",
              "\n",
              "    [theme=dark] .colab-df-convert:hover {\n",
              "      background-color: #434B5C;\n",
              "      box-shadow: 0px 1px 3px 1px rgba(0, 0, 0, 0.15);\n",
              "      filter: drop-shadow(0px 1px 2px rgba(0, 0, 0, 0.3));\n",
              "      fill: #FFFFFF;\n",
              "    }\n",
              "  </style>\n",
              "\n",
              "      <script>\n",
              "        const buttonEl =\n",
              "          document.querySelector('#df-1e338315-34c4-4554-b7ce-feb2c4fa5ecb button.colab-df-convert');\n",
              "        buttonEl.style.display =\n",
              "          google.colab.kernel.accessAllowed ? 'block' : 'none';\n",
              "\n",
              "        async function convertToInteractive(key) {\n",
              "          const element = document.querySelector('#df-1e338315-34c4-4554-b7ce-feb2c4fa5ecb');\n",
              "          const dataTable =\n",
              "            await google.colab.kernel.invokeFunction('convertToInteractive',\n",
              "                                                     [key], {});\n",
              "          if (!dataTable) return;\n",
              "\n",
              "          const docLinkHtml = 'Like what you see? Visit the ' +\n",
              "            '<a target=\"_blank\" href=https://colab.research.google.com/notebooks/data_table.ipynb>data table notebook</a>'\n",
              "            + ' to learn more about interactive tables.';\n",
              "          element.innerHTML = '';\n",
              "          dataTable['output_type'] = 'display_data';\n",
              "          await google.colab.output.renderOutput(dataTable, element);\n",
              "          const docLink = document.createElement('div');\n",
              "          docLink.innerHTML = docLinkHtml;\n",
              "          element.appendChild(docLink);\n",
              "        }\n",
              "      </script>\n",
              "    </div>\n",
              "  </div>\n",
              "  "
            ]
          },
          "metadata": {},
          "execution_count": 13
        }
      ],
      "source": [
        "# Classify products by sales count\n",
        "top_products = pd.DataFrame(sales_data.groupby('Product Name').sum()['Sales']  )\n",
        " \n",
        "# Getting Top Products in sorted way\n",
        "top_products.sort_values(by=['Sales'], inplace=True ,ascending=False )\n",
        "\n",
        "# Top 20 products in raw form\n",
        "top_products[:20]\n"
      ]
    },
    {
      "cell_type": "markdown",
      "source": [
        "<h3> Visualize Top 20 Products \n",
        "\n",
        "\n"
      ],
      "metadata": {
        "id": "UE5fGtF1RdsJ"
      }
    },
    {
      "cell_type": "code",
      "source": [
        "# Ploting Top 20 Products in Bar Chart \n",
        "\n",
        "# show only first name for product\n",
        "product_name_list = pd.Series( top_products.index[:20]).apply(lambda x: x.split()[0].strip())\n",
        "product_sales_list = top_products['Sales'][:20].tolist()\n",
        "\n",
        "fig = plt.figure()\n",
        "fig .set_figwidth(15) \n",
        "fig .set_figheight(10)\n",
        "sns.set_style('darkgrid')\n",
        "\n",
        "\n",
        "plt.title('Top 20 Products By Sales')\n",
        "plt.xlabel('Products')\n",
        "plt.ylabel('Sales Count')\n",
        "\n",
        "sns.barplot(x = product_name_list,y= product_sales_list  , )\n",
        "plt.show()\n",
        "\n"
      ],
      "metadata": {
        "colab": {
          "base_uri": "https://localhost:8080/",
          "height": 621
        },
        "id": "nqluF0MSSecf",
        "outputId": "33ea00d7-5b93-4541-f089-33f407938cc1"
      },
      "execution_count": 28,
      "outputs": [
        {
          "output_type": "display_data",
          "data": {
            "text/plain": [
              "<Figure size 1080x720 with 1 Axes>"
            ],
            "image/png": "[encoded data removed]"
          },
          "metadata": {}
        }
      ]
    }
  ],
  "metadata": {
    "kernelspec": {
      "display_name": "Python 3",
      "language": "python",
      "name": "python3"
    },
    "language_info": {
      "codemirror_mode": {
        "name": "ipython",
        "version": 3
      },
      "file_extension": ".py",
      "mimetype": "text/x-python",
      "name": "python",
      "nbconvert_exporter": "python",
      "pygments_lexer": "ipython3",
      "version": "3.7.6"
    },
    "colab": {
      "name": "Marketplace Sales Analysis.ipynb",
      "provenance": [],
      "collapsed_sections": [],
      "include_colab_link": true
    }
  },
  "nbformat": 4,
  "nbformat_minor": 0
}